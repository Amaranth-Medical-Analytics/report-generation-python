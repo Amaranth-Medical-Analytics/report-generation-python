{
 "cells": [
  {
   "cell_type": "code",
   "execution_count": 1,
   "id": "f8eceb7d",
   "metadata": {},
   "outputs": [],
   "source": [
    "import json\n",
    "import os\n",
    "from reportlab.lib.styles import ParagraphStyle\n",
    "from reportlab.platypus import Paragraph\n",
    "from reportlab.graphics import shapes\n",
    "from reportlab.lib import colors\n",
    "\n",
    "\n",
    "folder_path = r'C:\\Users\\joash\\Downloads\\H3U07755_F2_report\\H3U07755_F2_report\\\\'\n",
    "\n",
    "\n",
    "with open(os.path.join(folder_path,\"table1_summary.json\"), 'r') as f:\n",
    "    histologicalScoreData = json.load(f)\n",
    "                       \n",
    "\n",
    "with open(os.path.join(folder_path,\"table2_summary.json\"), 'r') as f:\n",
    "    segmentAreaData = json.load(f)\n",
    "\n",
    "with open(os.path.join(folder_path,\"table3_summary.json\"), 'r') as f:\n",
    "    cellTypeCountData = json.load(f)\n",
    "    \n",
    "with open(os.path.join(folder_path,\"table4_summary.json\"), 'r') as f:\n",
    "    cellTypePercentData = json.load(f)\n",
    "\n",
    "#Remove empty key\n",
    "for outer_key, inner_dict in histologicalScoreData.items():\n",
    "    histologicalScoreData[outer_key] = {key: value for key, value in inner_dict.items() if key != ''}\n"
   ]
  },
  {
   "cell_type": "code",
   "execution_count": null,
   "id": "f86a073c",
   "metadata": {},
   "outputs": [],
   "source": []
  },
  {
   "cell_type": "code",
   "execution_count": null,
   "id": "65dc41c9",
   "metadata": {},
   "outputs": [],
   "source": []
  },
  {
   "cell_type": "code",
   "execution_count": null,
   "id": "54245c26",
   "metadata": {},
   "outputs": [],
   "source": []
  },
  {
   "cell_type": "code",
   "execution_count": 2,
   "id": "6104dd6a",
   "metadata": {},
   "outputs": [],
   "source": [
    "def convertDictToArray(table, header,fontSize):\n",
    "    wordStyleBold = ParagraphStyle(\n",
    "        name='Normal',\n",
    "        fontSize=fontSize,\n",
    "        fontName='Times-Bold',\n",
    "        alignment=1,\n",
    "        leading=6\n",
    "    )\n",
    "    wordStyle = ParagraphStyle(\n",
    "        name='Normal',\n",
    "        fontSize=fontSize,\n",
    "        fontName='Times-Roman',\n",
    "        alignment=1,\n",
    "        leading=6\n",
    "    )\n",
    "\n",
    "    def P(txt,wordStyle):\n",
    "        return Paragraph(txt, wordStyle)\n",
    "\n",
    "    wordStyle.whiteSpace = 'nowrap'\n",
    "    header[0] = [P(i,wordStyleBold) for i in header[0]]\n",
    "\n",
    "    for key, value in table.items():\n",
    "        header.append([P(key,wordStyleBold)] + [P(str(val),wordStyle) for val in list(table[key].values())])\n",
    "\n",
    "    return header"
   ]
  },
  {
   "cell_type": "code",
   "execution_count": 3,
   "id": "f9cd26a4",
   "metadata": {},
   "outputs": [],
   "source": [
    "histologicalScoreTable = convertDictToArray(histologicalScoreData,[['','AI score','AI translated score','Pathologist score']],6)\n"
   ]
  },
  {
   "cell_type": "code",
   "execution_count": 4,
   "id": "566d8c6e",
   "metadata": {},
   "outputs": [],
   "source": [
    "wordStyleBold = ParagraphStyle(\n",
    "    name='table',\n",
    "    fontSize=6,\n",
    "    fontName='Times-Bold',\n",
    "    alignment=1,\n",
    "    leading=5\n",
    "    \n",
    ")\n",
    "wordStyle = ParagraphStyle(\n",
    "    name='table',\n",
    "    fontSize=6,\n",
    "    fontName='Times-Roman',\n",
    "    alignment=1,\n",
    "    leading=5\n",
    ")\n",
    "\n",
    "\n",
    "def P(txt,wordStyle):\n",
    "    return Paragraph(txt, wordStyle)\n",
    "\n"
   ]
  },
  {
   "cell_type": "code",
   "execution_count": 5,
   "id": "72ccb026",
   "metadata": {},
   "outputs": [],
   "source": [
    "def getTextColor(background_color):\n",
    "    luminance = (0.299 * background_color.red + 0.587 * background_color.green + 0.114 * background_color.blue)\n",
    "    # Choose the text color based on the luminance\n",
    "    if luminance < 0.5:  # Adjust this threshold as needed\n",
    "        return colors.white\n",
    "    else:\n",
    "        return colors.black\n"
   ]
  },
  {
   "cell_type": "code",
   "execution_count": null,
   "id": "de3fd5d5",
   "metadata": {},
   "outputs": [],
   "source": []
  },
  {
   "cell_type": "code",
   "execution_count": 6,
   "id": "8f1e497f",
   "metadata": {},
   "outputs": [],
   "source": [
    "cellTypeRename = {\n",
    "  'CE': \"Tumor/epithelial cells\",\n",
    "  'TIL': \"Tumor infiltrating lymphocytes\",\n",
    "  'CEUK': \"Unknown cell type\",\n",
    "  'fib': \"Fibroblasts\",\n",
    "  'plasma': \"Plasma cells\",\n",
    "  'End': \"Endothelial cells\",\n",
    "  'nCE': \"Normal cells\",\n",
    "  'Mph': \"Macrophages\",\n",
    "  'Neu': \"Neutrophils\",\n",
    "  'mimi': \"Mitotic mimic\",\n",
    "  'MIT': \"Mitotic cells\",\n",
    "}\n",
    "segmentRename = {'SPA': \"Space\",\n",
    "  'CT': \"Cellular Tumor\",\n",
    "  'ST': \"Stroma\",\n",
    "  'FAT': \"Fatty tissue\",\n",
    "  'NE': \"Necrosis\",\n",
    "  'Other': \"Other\",\n",
    "  'Skin': \"Skin\",\n",
    "  \"BR-D\": \"Normal/dysplastic breast\",}"
   ]
  },
  {
   "cell_type": "code",
   "execution_count": 7,
   "id": "a78a4bb6",
   "metadata": {},
   "outputs": [],
   "source": [
    "segmentAreaTable = []\n",
    "header = [P(i,wordStyleBold) for i in ['Segment','area in mm2','%area']]\n",
    "segmentAreaTable.append(header)\n",
    "for key,value in segmentAreaData.items():\n",
    "    \n",
    "    segment = ''\n",
    "    if key in segmentRename:\n",
    "\n",
    "        segment = P(segmentRename[key],wordStyleBold)\n",
    "    area_in_mm2 = P(str(round(value['area in mm2'],2)),wordStyle)\n",
    "    percent_area = P(str(round(value['%area'],2)),wordStyle)\n",
    "    # Create a list with the extracted values\n",
    "    extracted_data = [segment, area_in_mm2, percent_area]\n",
    "    segmentAreaTable.append(extracted_data)\n"
   ]
  },
  {
   "cell_type": "code",
   "execution_count": null,
   "id": "eed5357e",
   "metadata": {},
   "outputs": [],
   "source": []
  },
  {
   "cell_type": "code",
   "execution_count": 8,
   "id": "2a65081d",
   "metadata": {},
   "outputs": [],
   "source": [
    "cellTypeCountTable = []\n",
    "cellTypeHeader = [P(i,wordStyleBold) for i in ['Cell type', 'Total count', 'per mm²', 'per 1000 tumor cells']]\n",
    "cellTypeCountTable.append(cellTypeHeader)\n",
    "for key, values in cellTypeCountData.items():\n",
    "    # Extract the values for 'Segment', 'Total count', 'per mm2', and 'per 1000 epithelial cells'\n",
    "    segment = values['Segment']\n",
    "    if segment in cellTypeRename:\n",
    "        segment = P(cellTypeRename[segment],wordStyle)\n",
    "    total_count = P(\"{:,}\".format(values['Total count']),wordStyle)\n",
    "    per_mm2 = P(str(round(values['per mm2'],2)),wordStyle)\n",
    "    per_1000_epithelial_cells = P(str(values['per 1000 epithelial cells']),wordStyle)\n",
    "    # Create a list with the extracted values\n",
    "    extracted_data = [segment, total_count, per_mm2, per_1000_epithelial_cells]\n",
    "    # Append the list to the result\n",
    "    cellTypeCountTable.append(extracted_data)"
   ]
  },
  {
   "cell_type": "code",
   "execution_count": 9,
   "id": "6df39b90",
   "metadata": {},
   "outputs": [],
   "source": [
    "cellTypePercentTable = []\n",
    "cellTypePercentHeader = []\n",
    "for key, values in cellTypePercentData.items():\n",
    "    cellTypePercentHeader = list(values.keys())\n",
    "    cellTypePercentTable.append(['Cell type']+ cellTypePercentHeader)\n",
    "    break  # Exit the loop after extracting the header once\n",
    "    \n",
    "for key,values in cellTypePercentData.items():\n",
    "    extracted_data = []\n",
    "    if key in cellTypeRename:\n",
    "        celltype = cellTypeRename[key]\n",
    "        extracted_data.append(celltype)\n",
    "    for i in cellTypePercentHeader:\n",
    "        extracted_data.append(str(values[i])+'%')\n",
    "    cellTypePercentTable.append(extracted_data)\n",
    "    \n",
    "cellTypePercentTable[0] = [segmentRename.get(header, header) for header in cellTypePercentTable[0] if header != ' Cell type']\n",
    "cellTypePercentTable = [[P(j, wordStyleBold) if i == 0 else P(j, wordStyle) for i, j in enumerate(row)] for row in cellTypePercentTable]"
   ]
  },
  {
   "cell_type": "code",
   "execution_count": 10,
   "id": "45b92a97",
   "metadata": {},
   "outputs": [
    {
     "name": "stdout",
     "output_type": "stream",
     "text": [
      "Stored 'segmentAreaTable' (list)\n",
      "Stored 'cellTypeCountTable' (list)\n",
      "Stored 'cellTypePercentTable' (list)\n",
      "Stored 'histologicalScoreTable' (list)\n"
     ]
    }
   ],
   "source": [
    "%store segmentAreaTable\n",
    "%store cellTypeCountTable\n",
    "%store cellTypePercentTable\n",
    "%store histologicalScoreTable"
   ]
  },
  {
   "cell_type": "code",
   "execution_count": null,
   "id": "b24c391c",
   "metadata": {},
   "outputs": [],
   "source": []
  },
  {
   "cell_type": "code",
   "execution_count": 11,
   "id": "db484128",
   "metadata": {},
   "outputs": [],
   "source": [
    "#Mitotic Table"
   ]
  },
  {
   "cell_type": "code",
   "execution_count": 12,
   "id": "310a6e07",
   "metadata": {},
   "outputs": [],
   "source": [
    "mitoticInfoTable = [['','Mitotic cells']]\n",
    "for key,value in cellTypeCountData.items():\n",
    "    for nestedKey,nestedValue in cellTypeCountData[key].items():\n",
    "        if cellTypeCountData[key][nestedKey] == 'MIT':\n",
    "            mitoticInfoTable.append(['Total count',str(cellTypeCountData[key]['Total count'])])\n",
    "            mitoticInfoTable.append(['per mm2',str(round(cellTypeCountData[key]['per mm2'],2))])\n",
    "            mitoticInfoTable.append(['per 1000 tumor cells',str(cellTypeCountData[key]['per 1000 epithelial cells'])])"
   ]
  },
  {
   "cell_type": "code",
   "execution_count": 13,
   "id": "f1c32971",
   "metadata": {},
   "outputs": [],
   "source": [
    "import re\n",
    "\n",
    "def getMitoticScore(text):\n",
    "    # Define a regular expression pattern to extract numbers\n",
    "    pattern = r'\\b\\d+\\b'\n",
    "\n",
    "    # Use re.findall() to find all matching numbers in the text\n",
    "    matches = re.findall(pattern, text)\n",
    "\n",
    "    # Extract the first number (in this case, \"4\")\n",
    "    if matches:\n",
    "        number = matches[0]\n",
    "        return number\n"
   ]
  },
  {
   "cell_type": "code",
   "execution_count": null,
   "id": "8f3192f0",
   "metadata": {},
   "outputs": [],
   "source": []
  },
  {
   "cell_type": "code",
   "execution_count": 14,
   "id": "23f2dce6",
   "metadata": {},
   "outputs": [],
   "source": [
    "mitoticScore = getMitoticScore(histologicalScoreData['Mitotic score']['AI score'])\n",
    "mitoticAIScore = str(histologicalScoreData['Mitotic score']['AI translated score'])"
   ]
  },
  {
   "cell_type": "code",
   "execution_count": 15,
   "id": "99d9f227",
   "metadata": {},
   "outputs": [],
   "source": [
    "mitoticInfoTable.append(['Total mitosis in 10 consecutive HPF',mitoticScore])\n",
    "mitoticInfoTable.append(['AI derived score',mitoticAIScore])"
   ]
  },
  {
   "cell_type": "code",
   "execution_count": 16,
   "id": "b23e929f",
   "metadata": {},
   "outputs": [],
   "source": [
    "mitoticInfoTable = [[P(j, wordStyleBold) if i == 0 else P(j, wordStyle) for i, j in enumerate(row)] for row in mitoticInfoTable]"
   ]
  },
  {
   "cell_type": "code",
   "execution_count": 17,
   "id": "01b854d9",
   "metadata": {},
   "outputs": [
    {
     "name": "stdout",
     "output_type": "stream",
     "text": [
      "Stored 'mitoticInfoTable' (list)\n"
     ]
    }
   ],
   "source": [
    "%store mitoticInfoTable"
   ]
  },
  {
   "cell_type": "code",
   "execution_count": 18,
   "id": "a2b6a30a",
   "metadata": {},
   "outputs": [],
   "source": [
    "legendData = []\n",
    "for key in cellTypeCountData.keys():\n",
    "    if cellTypeCountData[key]['Segment'] != 'MIT' and cellTypeCountData[key]['Segment'] != 'mimi':\n",
    "        legendData.append(['',cellTypeRename[cellTypeCountData[key]['Segment']]])\n"
   ]
  },
  {
   "cell_type": "code",
   "execution_count": 19,
   "id": "5eca0616",
   "metadata": {},
   "outputs": [
    {
     "name": "stdout",
     "output_type": "stream",
     "text": [
      "Stored 'legendData' (list)\n"
     ]
    }
   ],
   "source": [
    "%store legendData"
   ]
  },
  {
   "cell_type": "code",
   "execution_count": 20,
   "id": "2aef9d6e",
   "metadata": {},
   "outputs": [
    {
     "data": {
      "text/plain": [
       "[['', 'Tumor infiltrating lymphocytes'],\n",
       " ['', 'Tumor/epithelial cells'],\n",
       " ['', 'Fibroblasts'],\n",
       " ['', 'Endothelial cells'],\n",
       " ['', 'Plasma cells'],\n",
       " ['', 'Macrophages'],\n",
       " ['', 'Normal cells'],\n",
       " ['', 'Neutrophils']]"
      ]
     },
     "execution_count": 20,
     "metadata": {},
     "output_type": "execute_result"
    }
   ],
   "source": [
    "legendData"
   ]
  },
  {
   "cell_type": "code",
   "execution_count": null,
   "id": "c149a456",
   "metadata": {},
   "outputs": [],
   "source": []
  },
  {
   "cell_type": "code",
   "execution_count": null,
   "id": "94b24b37",
   "metadata": {},
   "outputs": [],
   "source": []
  }
 ],
 "metadata": {
  "kernelspec": {
   "display_name": "Python 3 (ipykernel)",
   "language": "python",
   "name": "python3"
  },
  "language_info": {
   "codemirror_mode": {
    "name": "ipython",
    "version": 3
   },
   "file_extension": ".py",
   "mimetype": "text/x-python",
   "name": "python",
   "nbconvert_exporter": "python",
   "pygments_lexer": "ipython3",
   "version": "3.9.6"
  }
 },
 "nbformat": 4,
 "nbformat_minor": 5
}
