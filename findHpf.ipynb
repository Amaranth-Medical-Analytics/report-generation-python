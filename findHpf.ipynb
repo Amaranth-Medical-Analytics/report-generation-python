{
 "cells": [
  {
   "cell_type": "code",
   "execution_count": 5,
   "id": "be7c20dc",
   "metadata": {},
   "outputs": [],
   "source": [
    "import os\n",
    "import re\n",
    "# Specify the folder directory where you want to search for the file\n",
    "folder_path = \"C:/Users/joash/Downloads/H3U07755_F2_report/H3U07755_F2_report/\"\n",
    "\n",
    "# Specify the filename you want to search for\n",
    "mainHpf = r'hpf_(\\d+)_mitosis\\.png'  # Replace with the filename you're looking for\n",
    "\n",
    "hpfLocationDictionary = {}\n",
    "# Iterate through the files in the folder\n",
    "for root, dirs, files in os.walk(folder_path):\n",
    "    for file in files:\n",
    "        if re.match(mainHpf,file):\n",
    "            hpfNumber = re.findall(mainHpf,file)\n",
    "            hpfLocationDictionary[hpfNumber[0]] = {}\n",
    "            file_path = os.path.join(root, file)\n",
    "            hpfLocationDictionary[hpfNumber[0]][file_path] = []\n",
    "            for root, dirs, allFiles in os.walk(folder_path):\n",
    "                for searchFile in allFiles:\n",
    "                    if f'HPF_{hpfNumber[0]}.png' in searchFile:\n",
    "                        subHpf_file_path = os.path.join(root, searchFile)\n",
    "                        if hpfNumber[0] in hpfLocationDictionary:\n",
    "                            hpfLocationDictionary[hpfNumber[0]][file_path].append(subHpf_file_path)\n"
   ]
  },
  {
   "cell_type": "code",
   "execution_count": 6,
   "id": "b127215e",
   "metadata": {},
   "outputs": [],
   "source": [
    "sortedHpfKeys = sorted(hpfLocationDictionary.keys(), key=lambda x: int(x))\n"
   ]
  },
  {
   "cell_type": "code",
   "execution_count": 7,
   "id": "2d7ac1c7",
   "metadata": {},
   "outputs": [],
   "source": [
    "sortedHpfDictionary = {}\n",
    "for i in sortedHpfKeys:\n",
    "    sortedHpfDictionary[i] = hpfLocationDictionary[i]"
   ]
  },
  {
   "cell_type": "code",
   "execution_count": 8,
   "id": "395ba3ee",
   "metadata": {},
   "outputs": [
    {
     "name": "stdout",
     "output_type": "stream",
     "text": [
      "Stored 'sortedHpfDictionary' (dict)\n"
     ]
    }
   ],
   "source": [
    "%store sortedHpfDictionary"
   ]
  },
  {
   "cell_type": "code",
   "execution_count": null,
   "id": "d019255e",
   "metadata": {},
   "outputs": [],
   "source": []
  }
 ],
 "metadata": {
  "kernelspec": {
   "display_name": "Python 3 (ipykernel)",
   "language": "python",
   "name": "python3"
  },
  "language_info": {
   "codemirror_mode": {
    "name": "ipython",
    "version": 3
   },
   "file_extension": ".py",
   "mimetype": "text/x-python",
   "name": "python",
   "nbconvert_exporter": "python",
   "pygments_lexer": "ipython3",
   "version": "3.9.6"
  }
 },
 "nbformat": 4,
 "nbformat_minor": 5
}
